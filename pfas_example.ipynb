{
 "cells": [
  {
   "cell_type": "code",
   "execution_count": 1,
   "metadata": {},
   "outputs": [],
   "source": [
    "from srtools import *"
   ]
  },
  {
   "cell_type": "code",
   "execution_count": 2,
   "metadata": {},
   "outputs": [
    {
     "name": "stdout",
     "output_type": "stream",
     "text": [
      "Variable not elligible: time\n",
      "Variable not elligible: lat\n",
      "Variable not elligible: lon\n",
      "Source Types: ['uniform', 'wwtp', 'population', 'incinerator', 'hazwaste', 'landfill']\n",
      "Chemical Species: ['PFHPA', 'PFHXA', 'PFPA', 'PFBUA', 'PFPRA', 'TFA']\n",
      "Exposure Pathways: ['deposition']\n"
     ]
    },
    {
     "data": {
      "text/plain": "((113,), (101,))"
     },
     "execution_count": 2,
     "metadata": {},
     "output_type": "execute_result"
    }
   ],
   "source": [
    "influence = InfluenceFunction('placeholder_data.nc',verbose=True)\n",
    "lons, lats = influence.get_lonslats()\n",
    "lons.shape, lats.shape"
   ]
  },
  {
   "cell_type": "code",
   "execution_count": 3,
   "metadata": {},
   "outputs": [
    {
     "data": {
      "text/plain": "((101, 113), 828.6676)"
     },
     "execution_count": 3,
     "metadata": {},
     "output_type": "execute_result"
    }
   ],
   "source": [
    "data = influence.get_IF('landfill','PFHXA','deposition')\n",
    "data.shape, data.sum()"
   ]
  },
  {
   "cell_type": "code",
   "execution_count": 4,
   "metadata": {},
   "outputs": [
    {
     "data": {
      "text/plain": "((101, 113), 2652.0764)"
     },
     "execution_count": 4,
     "metadata": {},
     "output_type": "execute_result"
    }
   ],
   "source": [
    "source_dict = {\n",
    "    'landfill': 1.0,\n",
    "    'uniform': 2.0,\n",
    "}\n",
    "exposure = influence.get_species_exposure(source_dict,'PFHXA','deposition')\n",
    "exposure.shape, exposure.sum()"
   ]
  },
  {
   "cell_type": "code",
   "execution_count": null,
   "metadata": {},
   "outputs": [],
   "source": []
  }
 ],
 "metadata": {
  "kernelspec": {
   "display_name": "Python 3.8.5 64-bit",
   "metadata": {
    "interpreter": {
     "hash": "767d51c1340bd893661ea55ea3124f6de3c7a262a8b4abca0554b478b1e2ff90"
    }
   },
   "name": "python3"
  },
  "language_info": {
   "codemirror_mode": {
    "name": "ipython",
    "version": 3
   },
   "file_extension": ".py",
   "mimetype": "text/x-python",
   "name": "python",
   "nbconvert_exporter": "python",
   "pygments_lexer": "ipython3",
   "version": "3.8.5"
  },
  "orig_nbformat": 2
 },
 "nbformat": 4,
 "nbformat_minor": 2
}